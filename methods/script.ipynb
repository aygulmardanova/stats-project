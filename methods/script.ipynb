{
 "cells": [
  {
   "cell_type": "code",
   "execution_count": 2,
   "metadata": {},
   "outputs": [],
   "source": [
    "# Importing required packages.\n",
    "import numpy as np\n",
    "import pandas as pd\n",
    "import plotly.plotly as py\n",
    "import plotly.graph_objs as go\n",
    "import seaborn as sns\n",
    "import matplotlib.pyplot as plt\n",
    "from __future__ import print_function\n",
    "from sklearn.ensemble import RandomForestClassifier\n",
    "from sklearn.svm import SVC\n",
    "from sklearn.linear_model import SGDClassifier\n",
    "from sklearn.metrics import confusion_matrix, classification_report\n",
    "from sklearn.preprocessing import StandardScaler, LabelEncoder\n",
    "from sklearn.model_selection import train_test_split, GridSearchCV, cross_val_score\n",
    "from sklearn.metrics import mean_squared_error\n",
    "from sklearn.metrics import accuracy_score\n",
    "from sklearn.linear_model import LinearRegression\n",
    "from sklearn.tree import DecisionTreeRegressor\n",
    "from sklearn.preprocessing import PolynomialFeatures\n",
    "# from sklearn.neural_network import MLPRegressor\n",
    "from math import sqrt"
   ]
  },
  {
   "cell_type": "code",
   "execution_count": 3,
   "metadata": {},
   "outputs": [
    {
     "data": {
      "text/html": [
       "<div>\n",
       "<style scoped>\n",
       "    .dataframe tbody tr th:only-of-type {\n",
       "        vertical-align: middle;\n",
       "    }\n",
       "\n",
       "    .dataframe tbody tr th {\n",
       "        vertical-align: top;\n",
       "    }\n",
       "\n",
       "    .dataframe thead th {\n",
       "        text-align: right;\n",
       "    }\n",
       "</style>\n",
       "<table border=\"1\" class=\"dataframe\">\n",
       "  <thead>\n",
       "    <tr style=\"text-align: right;\">\n",
       "      <th></th>\n",
       "      <th>fixed acidity</th>\n",
       "      <th>volatile acidity</th>\n",
       "      <th>citric acid</th>\n",
       "      <th>residual sugar</th>\n",
       "      <th>chlorides</th>\n",
       "      <th>free sulfur dioxide</th>\n",
       "      <th>total sulfur dioxide</th>\n",
       "      <th>density</th>\n",
       "      <th>pH</th>\n",
       "      <th>sulphates</th>\n",
       "      <th>alcohol</th>\n",
       "      <th>quality</th>\n",
       "    </tr>\n",
       "  </thead>\n",
       "  <tbody>\n",
       "    <tr>\n",
       "      <th>0</th>\n",
       "      <td>7.0</td>\n",
       "      <td>0.27</td>\n",
       "      <td>0.36</td>\n",
       "      <td>20.7</td>\n",
       "      <td>0.045</td>\n",
       "      <td>45.0</td>\n",
       "      <td>170.0</td>\n",
       "      <td>1.0010</td>\n",
       "      <td>3.00</td>\n",
       "      <td>0.45</td>\n",
       "      <td>8.8</td>\n",
       "      <td>6</td>\n",
       "    </tr>\n",
       "    <tr>\n",
       "      <th>1</th>\n",
       "      <td>6.3</td>\n",
       "      <td>0.30</td>\n",
       "      <td>0.34</td>\n",
       "      <td>1.6</td>\n",
       "      <td>0.049</td>\n",
       "      <td>14.0</td>\n",
       "      <td>132.0</td>\n",
       "      <td>0.9940</td>\n",
       "      <td>3.30</td>\n",
       "      <td>0.49</td>\n",
       "      <td>9.5</td>\n",
       "      <td>6</td>\n",
       "    </tr>\n",
       "    <tr>\n",
       "      <th>2</th>\n",
       "      <td>8.1</td>\n",
       "      <td>0.28</td>\n",
       "      <td>0.40</td>\n",
       "      <td>6.9</td>\n",
       "      <td>0.050</td>\n",
       "      <td>30.0</td>\n",
       "      <td>97.0</td>\n",
       "      <td>0.9951</td>\n",
       "      <td>3.26</td>\n",
       "      <td>0.44</td>\n",
       "      <td>10.1</td>\n",
       "      <td>6</td>\n",
       "    </tr>\n",
       "    <tr>\n",
       "      <th>3</th>\n",
       "      <td>7.2</td>\n",
       "      <td>0.23</td>\n",
       "      <td>0.32</td>\n",
       "      <td>8.5</td>\n",
       "      <td>0.058</td>\n",
       "      <td>47.0</td>\n",
       "      <td>186.0</td>\n",
       "      <td>0.9956</td>\n",
       "      <td>3.19</td>\n",
       "      <td>0.40</td>\n",
       "      <td>9.9</td>\n",
       "      <td>6</td>\n",
       "    </tr>\n",
       "    <tr>\n",
       "      <th>4</th>\n",
       "      <td>7.2</td>\n",
       "      <td>0.23</td>\n",
       "      <td>0.32</td>\n",
       "      <td>8.5</td>\n",
       "      <td>0.058</td>\n",
       "      <td>47.0</td>\n",
       "      <td>186.0</td>\n",
       "      <td>0.9956</td>\n",
       "      <td>3.19</td>\n",
       "      <td>0.40</td>\n",
       "      <td>9.9</td>\n",
       "      <td>6</td>\n",
       "    </tr>\n",
       "  </tbody>\n",
       "</table>\n",
       "</div>"
      ],
      "text/plain": [
       "   fixed acidity  volatile acidity  citric acid  residual sugar  chlorides  \\\n",
       "0            7.0              0.27         0.36            20.7      0.045   \n",
       "1            6.3              0.30         0.34             1.6      0.049   \n",
       "2            8.1              0.28         0.40             6.9      0.050   \n",
       "3            7.2              0.23         0.32             8.5      0.058   \n",
       "4            7.2              0.23         0.32             8.5      0.058   \n",
       "\n",
       "   free sulfur dioxide  total sulfur dioxide  density    pH  sulphates  \\\n",
       "0                 45.0                 170.0   1.0010  3.00       0.45   \n",
       "1                 14.0                 132.0   0.9940  3.30       0.49   \n",
       "2                 30.0                  97.0   0.9951  3.26       0.44   \n",
       "3                 47.0                 186.0   0.9956  3.19       0.40   \n",
       "4                 47.0                 186.0   0.9956  3.19       0.40   \n",
       "\n",
       "   alcohol  quality  \n",
       "0      8.8        6  \n",
       "1      9.5        6  \n",
       "2     10.1        6  \n",
       "3      9.9        6  \n",
       "4      9.9        6  "
      ]
     },
     "execution_count": 3,
     "metadata": {},
     "output_type": "execute_result"
    }
   ],
   "source": [
    "# Loading dataset\n",
    "wine = pd.read_csv('../input/winequality-white.csv', sep=';')\n",
    "\n",
    "# Let's check how the data is distributed\n",
    "wine.head(5)"
   ]
  },
  {
   "cell_type": "code",
   "execution_count": 4,
   "metadata": {},
   "outputs": [
    {
     "data": {
      "text/html": [
       "<div>\n",
       "<style scoped>\n",
       "    .dataframe tbody tr th:only-of-type {\n",
       "        vertical-align: middle;\n",
       "    }\n",
       "\n",
       "    .dataframe tbody tr th {\n",
       "        vertical-align: top;\n",
       "    }\n",
       "\n",
       "    .dataframe thead th {\n",
       "        text-align: right;\n",
       "    }\n",
       "</style>\n",
       "<table border=\"1\" class=\"dataframe\">\n",
       "  <thead>\n",
       "    <tr style=\"text-align: right;\">\n",
       "      <th></th>\n",
       "      <th>fixed acidity</th>\n",
       "      <th>volatile acidity</th>\n",
       "      <th>citric acid</th>\n",
       "      <th>residual sugar</th>\n",
       "      <th>chlorides</th>\n",
       "      <th>free sulfur dioxide</th>\n",
       "      <th>total sulfur dioxide</th>\n",
       "      <th>density</th>\n",
       "      <th>pH</th>\n",
       "      <th>sulphates</th>\n",
       "      <th>alcohol</th>\n",
       "      <th>quality</th>\n",
       "    </tr>\n",
       "  </thead>\n",
       "  <tbody>\n",
       "    <tr>\n",
       "      <th>4893</th>\n",
       "      <td>6.2</td>\n",
       "      <td>0.21</td>\n",
       "      <td>0.29</td>\n",
       "      <td>1.6</td>\n",
       "      <td>0.039</td>\n",
       "      <td>24.0</td>\n",
       "      <td>92.0</td>\n",
       "      <td>0.99114</td>\n",
       "      <td>3.27</td>\n",
       "      <td>0.50</td>\n",
       "      <td>11.2</td>\n",
       "      <td>6</td>\n",
       "    </tr>\n",
       "    <tr>\n",
       "      <th>4894</th>\n",
       "      <td>6.6</td>\n",
       "      <td>0.32</td>\n",
       "      <td>0.36</td>\n",
       "      <td>8.0</td>\n",
       "      <td>0.047</td>\n",
       "      <td>57.0</td>\n",
       "      <td>168.0</td>\n",
       "      <td>0.99490</td>\n",
       "      <td>3.15</td>\n",
       "      <td>0.46</td>\n",
       "      <td>9.6</td>\n",
       "      <td>5</td>\n",
       "    </tr>\n",
       "    <tr>\n",
       "      <th>4895</th>\n",
       "      <td>6.5</td>\n",
       "      <td>0.24</td>\n",
       "      <td>0.19</td>\n",
       "      <td>1.2</td>\n",
       "      <td>0.041</td>\n",
       "      <td>30.0</td>\n",
       "      <td>111.0</td>\n",
       "      <td>0.99254</td>\n",
       "      <td>2.99</td>\n",
       "      <td>0.46</td>\n",
       "      <td>9.4</td>\n",
       "      <td>6</td>\n",
       "    </tr>\n",
       "    <tr>\n",
       "      <th>4896</th>\n",
       "      <td>5.5</td>\n",
       "      <td>0.29</td>\n",
       "      <td>0.30</td>\n",
       "      <td>1.1</td>\n",
       "      <td>0.022</td>\n",
       "      <td>20.0</td>\n",
       "      <td>110.0</td>\n",
       "      <td>0.98869</td>\n",
       "      <td>3.34</td>\n",
       "      <td>0.38</td>\n",
       "      <td>12.8</td>\n",
       "      <td>7</td>\n",
       "    </tr>\n",
       "    <tr>\n",
       "      <th>4897</th>\n",
       "      <td>6.0</td>\n",
       "      <td>0.21</td>\n",
       "      <td>0.38</td>\n",
       "      <td>0.8</td>\n",
       "      <td>0.020</td>\n",
       "      <td>22.0</td>\n",
       "      <td>98.0</td>\n",
       "      <td>0.98941</td>\n",
       "      <td>3.26</td>\n",
       "      <td>0.32</td>\n",
       "      <td>11.8</td>\n",
       "      <td>6</td>\n",
       "    </tr>\n",
       "  </tbody>\n",
       "</table>\n",
       "</div>"
      ],
      "text/plain": [
       "      fixed acidity  volatile acidity  citric acid  residual sugar  chlorides  \\\n",
       "4893            6.2              0.21         0.29             1.6      0.039   \n",
       "4894            6.6              0.32         0.36             8.0      0.047   \n",
       "4895            6.5              0.24         0.19             1.2      0.041   \n",
       "4896            5.5              0.29         0.30             1.1      0.022   \n",
       "4897            6.0              0.21         0.38             0.8      0.020   \n",
       "\n",
       "      free sulfur dioxide  total sulfur dioxide  density    pH  sulphates  \\\n",
       "4893                 24.0                  92.0  0.99114  3.27       0.50   \n",
       "4894                 57.0                 168.0  0.99490  3.15       0.46   \n",
       "4895                 30.0                 111.0  0.99254  2.99       0.46   \n",
       "4896                 20.0                 110.0  0.98869  3.34       0.38   \n",
       "4897                 22.0                  98.0  0.98941  3.26       0.32   \n",
       "\n",
       "      alcohol  quality  \n",
       "4893     11.2        6  \n",
       "4894      9.6        5  \n",
       "4895      9.4        6  \n",
       "4896     12.8        7  \n",
       "4897     11.8        6  "
      ]
     },
     "execution_count": 4,
     "metadata": {},
     "output_type": "execute_result"
    }
   ],
   "source": [
    "wine.tail(5)"
   ]
  },
  {
   "cell_type": "code",
   "execution_count": 5,
   "metadata": {},
   "outputs": [
    {
     "data": {
      "text/html": [
       "<div>\n",
       "<style scoped>\n",
       "    .dataframe tbody tr th:only-of-type {\n",
       "        vertical-align: middle;\n",
       "    }\n",
       "\n",
       "    .dataframe tbody tr th {\n",
       "        vertical-align: top;\n",
       "    }\n",
       "\n",
       "    .dataframe thead th {\n",
       "        text-align: right;\n",
       "    }\n",
       "</style>\n",
       "<table border=\"1\" class=\"dataframe\">\n",
       "  <thead>\n",
       "    <tr style=\"text-align: right;\">\n",
       "      <th></th>\n",
       "      <th>fixed acidity</th>\n",
       "      <th>volatile acidity</th>\n",
       "      <th>citric acid</th>\n",
       "      <th>residual sugar</th>\n",
       "      <th>chlorides</th>\n",
       "      <th>free sulfur dioxide</th>\n",
       "      <th>total sulfur dioxide</th>\n",
       "      <th>density</th>\n",
       "      <th>pH</th>\n",
       "      <th>sulphates</th>\n",
       "      <th>alcohol</th>\n",
       "      <th>quality</th>\n",
       "    </tr>\n",
       "  </thead>\n",
       "  <tbody>\n",
       "    <tr>\n",
       "      <th>count</th>\n",
       "      <td>4898.000000</td>\n",
       "      <td>4898.000000</td>\n",
       "      <td>4898.000000</td>\n",
       "      <td>4898.000000</td>\n",
       "      <td>4898.000000</td>\n",
       "      <td>4898.000000</td>\n",
       "      <td>4898.000000</td>\n",
       "      <td>4898.000000</td>\n",
       "      <td>4898.000000</td>\n",
       "      <td>4898.000000</td>\n",
       "      <td>4898.000000</td>\n",
       "      <td>4898.000000</td>\n",
       "    </tr>\n",
       "    <tr>\n",
       "      <th>mean</th>\n",
       "      <td>6.854788</td>\n",
       "      <td>0.278241</td>\n",
       "      <td>0.334192</td>\n",
       "      <td>6.391415</td>\n",
       "      <td>0.045772</td>\n",
       "      <td>35.308085</td>\n",
       "      <td>138.360657</td>\n",
       "      <td>0.994027</td>\n",
       "      <td>3.188267</td>\n",
       "      <td>0.489847</td>\n",
       "      <td>10.514267</td>\n",
       "      <td>5.877909</td>\n",
       "    </tr>\n",
       "    <tr>\n",
       "      <th>std</th>\n",
       "      <td>0.843868</td>\n",
       "      <td>0.100795</td>\n",
       "      <td>0.121020</td>\n",
       "      <td>5.072058</td>\n",
       "      <td>0.021848</td>\n",
       "      <td>17.007137</td>\n",
       "      <td>42.498065</td>\n",
       "      <td>0.002991</td>\n",
       "      <td>0.151001</td>\n",
       "      <td>0.114126</td>\n",
       "      <td>1.230621</td>\n",
       "      <td>0.885639</td>\n",
       "    </tr>\n",
       "    <tr>\n",
       "      <th>min</th>\n",
       "      <td>3.800000</td>\n",
       "      <td>0.080000</td>\n",
       "      <td>0.000000</td>\n",
       "      <td>0.600000</td>\n",
       "      <td>0.009000</td>\n",
       "      <td>2.000000</td>\n",
       "      <td>9.000000</td>\n",
       "      <td>0.987110</td>\n",
       "      <td>2.720000</td>\n",
       "      <td>0.220000</td>\n",
       "      <td>8.000000</td>\n",
       "      <td>3.000000</td>\n",
       "    </tr>\n",
       "    <tr>\n",
       "      <th>25%</th>\n",
       "      <td>6.300000</td>\n",
       "      <td>0.210000</td>\n",
       "      <td>0.270000</td>\n",
       "      <td>1.700000</td>\n",
       "      <td>0.036000</td>\n",
       "      <td>23.000000</td>\n",
       "      <td>108.000000</td>\n",
       "      <td>0.991723</td>\n",
       "      <td>3.090000</td>\n",
       "      <td>0.410000</td>\n",
       "      <td>9.500000</td>\n",
       "      <td>5.000000</td>\n",
       "    </tr>\n",
       "    <tr>\n",
       "      <th>50%</th>\n",
       "      <td>6.800000</td>\n",
       "      <td>0.260000</td>\n",
       "      <td>0.320000</td>\n",
       "      <td>5.200000</td>\n",
       "      <td>0.043000</td>\n",
       "      <td>34.000000</td>\n",
       "      <td>134.000000</td>\n",
       "      <td>0.993740</td>\n",
       "      <td>3.180000</td>\n",
       "      <td>0.470000</td>\n",
       "      <td>10.400000</td>\n",
       "      <td>6.000000</td>\n",
       "    </tr>\n",
       "    <tr>\n",
       "      <th>75%</th>\n",
       "      <td>7.300000</td>\n",
       "      <td>0.320000</td>\n",
       "      <td>0.390000</td>\n",
       "      <td>9.900000</td>\n",
       "      <td>0.050000</td>\n",
       "      <td>46.000000</td>\n",
       "      <td>167.000000</td>\n",
       "      <td>0.996100</td>\n",
       "      <td>3.280000</td>\n",
       "      <td>0.550000</td>\n",
       "      <td>11.400000</td>\n",
       "      <td>6.000000</td>\n",
       "    </tr>\n",
       "    <tr>\n",
       "      <th>max</th>\n",
       "      <td>14.200000</td>\n",
       "      <td>1.100000</td>\n",
       "      <td>1.660000</td>\n",
       "      <td>65.800000</td>\n",
       "      <td>0.346000</td>\n",
       "      <td>289.000000</td>\n",
       "      <td>440.000000</td>\n",
       "      <td>1.038980</td>\n",
       "      <td>3.820000</td>\n",
       "      <td>1.080000</td>\n",
       "      <td>14.200000</td>\n",
       "      <td>9.000000</td>\n",
       "    </tr>\n",
       "  </tbody>\n",
       "</table>\n",
       "</div>"
      ],
      "text/plain": [
       "       fixed acidity  volatile acidity  citric acid  residual sugar  \\\n",
       "count    4898.000000       4898.000000  4898.000000     4898.000000   \n",
       "mean        6.854788          0.278241     0.334192        6.391415   \n",
       "std         0.843868          0.100795     0.121020        5.072058   \n",
       "min         3.800000          0.080000     0.000000        0.600000   \n",
       "25%         6.300000          0.210000     0.270000        1.700000   \n",
       "50%         6.800000          0.260000     0.320000        5.200000   \n",
       "75%         7.300000          0.320000     0.390000        9.900000   \n",
       "max        14.200000          1.100000     1.660000       65.800000   \n",
       "\n",
       "         chlorides  free sulfur dioxide  total sulfur dioxide      density  \\\n",
       "count  4898.000000          4898.000000           4898.000000  4898.000000   \n",
       "mean      0.045772            35.308085            138.360657     0.994027   \n",
       "std       0.021848            17.007137             42.498065     0.002991   \n",
       "min       0.009000             2.000000              9.000000     0.987110   \n",
       "25%       0.036000            23.000000            108.000000     0.991723   \n",
       "50%       0.043000            34.000000            134.000000     0.993740   \n",
       "75%       0.050000            46.000000            167.000000     0.996100   \n",
       "max       0.346000           289.000000            440.000000     1.038980   \n",
       "\n",
       "                pH    sulphates      alcohol      quality  \n",
       "count  4898.000000  4898.000000  4898.000000  4898.000000  \n",
       "mean      3.188267     0.489847    10.514267     5.877909  \n",
       "std       0.151001     0.114126     1.230621     0.885639  \n",
       "min       2.720000     0.220000     8.000000     3.000000  \n",
       "25%       3.090000     0.410000     9.500000     5.000000  \n",
       "50%       3.180000     0.470000    10.400000     6.000000  \n",
       "75%       3.280000     0.550000    11.400000     6.000000  \n",
       "max       3.820000     1.080000    14.200000     9.000000  "
      ]
     },
     "execution_count": 5,
     "metadata": {},
     "output_type": "execute_result"
    }
   ],
   "source": [
    "wine.describe()"
   ]
  },
  {
   "cell_type": "code",
   "execution_count": 6,
   "metadata": {},
   "outputs": [
    {
     "name": "stdout",
     "output_type": "stream",
     "text": [
      "<class 'pandas.core.frame.DataFrame'>\n",
      "RangeIndex: 4898 entries, 0 to 4897\n",
      "Data columns (total 12 columns):\n",
      "fixed acidity           4898 non-null float64\n",
      "volatile acidity        4898 non-null float64\n",
      "citric acid             4898 non-null float64\n",
      "residual sugar          4898 non-null float64\n",
      "chlorides               4898 non-null float64\n",
      "free sulfur dioxide     4898 non-null float64\n",
      "total sulfur dioxide    4898 non-null float64\n",
      "density                 4898 non-null float64\n",
      "pH                      4898 non-null float64\n",
      "sulphates               4898 non-null float64\n",
      "alcohol                 4898 non-null float64\n",
      "quality                 4898 non-null int64\n",
      "dtypes: float64(11), int64(1)\n",
      "memory usage: 459.3 KB\n"
     ]
    }
   ],
   "source": [
    "# Information about the data columns:\n",
    "# 1 - fixed acidity;\n",
    "# 2 - volatile acidity;\n",
    "# 3 - citric acid;\n",
    "# 4 - residual sugar;\n",
    "# 5 - chlorides;\n",
    "# 6 - free sulfur dioxide;\n",
    "# 7 - total sulfur dioxide;\n",
    "# 8 - density;\n",
    "# 9 - pH;\n",
    "# 10 - sulphates;\n",
    "# 11 - alcohol.\n",
    "# \n",
    "# Output variable(based on sensory data):\n",
    "# 12 - quality(score between 0 and 10).\n",
    "\n",
    "wine.info()"
   ]
  },
  {
   "cell_type": "code",
   "execution_count": 7,
   "metadata": {},
   "outputs": [
    {
     "data": {
      "text/html": [
       "<div>\n",
       "<style scoped>\n",
       "    .dataframe tbody tr th:only-of-type {\n",
       "        vertical-align: middle;\n",
       "    }\n",
       "\n",
       "    .dataframe tbody tr th {\n",
       "        vertical-align: top;\n",
       "    }\n",
       "\n",
       "    .dataframe thead th {\n",
       "        text-align: right;\n",
       "    }\n",
       "</style>\n",
       "<table border=\"1\" class=\"dataframe\">\n",
       "  <thead>\n",
       "    <tr style=\"text-align: right;\">\n",
       "      <th></th>\n",
       "      <th>fixed acidity</th>\n",
       "      <th>volatile acidity</th>\n",
       "      <th>citric acid</th>\n",
       "      <th>residual sugar</th>\n",
       "      <th>chlorides</th>\n",
       "      <th>free sulfur dioxide</th>\n",
       "      <th>total sulfur dioxide</th>\n",
       "      <th>density</th>\n",
       "      <th>pH</th>\n",
       "      <th>sulphates</th>\n",
       "      <th>alcohol</th>\n",
       "      <th>quality</th>\n",
       "    </tr>\n",
       "  </thead>\n",
       "  <tbody>\n",
       "    <tr>\n",
       "      <th>fixed acidity</th>\n",
       "      <td>1.000000</td>\n",
       "      <td>-0.022697</td>\n",
       "      <td>0.289181</td>\n",
       "      <td>0.089021</td>\n",
       "      <td>0.023086</td>\n",
       "      <td>-0.049396</td>\n",
       "      <td>0.091070</td>\n",
       "      <td>0.265331</td>\n",
       "      <td>-0.425858</td>\n",
       "      <td>-0.017143</td>\n",
       "      <td>-0.120881</td>\n",
       "      <td>-0.113663</td>\n",
       "    </tr>\n",
       "    <tr>\n",
       "      <th>volatile acidity</th>\n",
       "      <td>-0.022697</td>\n",
       "      <td>1.000000</td>\n",
       "      <td>-0.149472</td>\n",
       "      <td>0.064286</td>\n",
       "      <td>0.070512</td>\n",
       "      <td>-0.097012</td>\n",
       "      <td>0.089261</td>\n",
       "      <td>0.027114</td>\n",
       "      <td>-0.031915</td>\n",
       "      <td>-0.035728</td>\n",
       "      <td>0.067718</td>\n",
       "      <td>-0.194723</td>\n",
       "    </tr>\n",
       "    <tr>\n",
       "      <th>citric acid</th>\n",
       "      <td>0.289181</td>\n",
       "      <td>-0.149472</td>\n",
       "      <td>1.000000</td>\n",
       "      <td>0.094212</td>\n",
       "      <td>0.114364</td>\n",
       "      <td>0.094077</td>\n",
       "      <td>0.121131</td>\n",
       "      <td>0.149503</td>\n",
       "      <td>-0.163748</td>\n",
       "      <td>0.062331</td>\n",
       "      <td>-0.075729</td>\n",
       "      <td>-0.009209</td>\n",
       "    </tr>\n",
       "    <tr>\n",
       "      <th>residual sugar</th>\n",
       "      <td>0.089021</td>\n",
       "      <td>0.064286</td>\n",
       "      <td>0.094212</td>\n",
       "      <td>1.000000</td>\n",
       "      <td>0.088685</td>\n",
       "      <td>0.299098</td>\n",
       "      <td>0.401439</td>\n",
       "      <td>0.838966</td>\n",
       "      <td>-0.194133</td>\n",
       "      <td>-0.026664</td>\n",
       "      <td>-0.450631</td>\n",
       "      <td>-0.097577</td>\n",
       "    </tr>\n",
       "    <tr>\n",
       "      <th>chlorides</th>\n",
       "      <td>0.023086</td>\n",
       "      <td>0.070512</td>\n",
       "      <td>0.114364</td>\n",
       "      <td>0.088685</td>\n",
       "      <td>1.000000</td>\n",
       "      <td>0.101392</td>\n",
       "      <td>0.198910</td>\n",
       "      <td>0.257211</td>\n",
       "      <td>-0.090439</td>\n",
       "      <td>0.016763</td>\n",
       "      <td>-0.360189</td>\n",
       "      <td>-0.209934</td>\n",
       "    </tr>\n",
       "    <tr>\n",
       "      <th>free sulfur dioxide</th>\n",
       "      <td>-0.049396</td>\n",
       "      <td>-0.097012</td>\n",
       "      <td>0.094077</td>\n",
       "      <td>0.299098</td>\n",
       "      <td>0.101392</td>\n",
       "      <td>1.000000</td>\n",
       "      <td>0.615501</td>\n",
       "      <td>0.294210</td>\n",
       "      <td>-0.000618</td>\n",
       "      <td>0.059217</td>\n",
       "      <td>-0.250104</td>\n",
       "      <td>0.008158</td>\n",
       "    </tr>\n",
       "    <tr>\n",
       "      <th>total sulfur dioxide</th>\n",
       "      <td>0.091070</td>\n",
       "      <td>0.089261</td>\n",
       "      <td>0.121131</td>\n",
       "      <td>0.401439</td>\n",
       "      <td>0.198910</td>\n",
       "      <td>0.615501</td>\n",
       "      <td>1.000000</td>\n",
       "      <td>0.529881</td>\n",
       "      <td>0.002321</td>\n",
       "      <td>0.134562</td>\n",
       "      <td>-0.448892</td>\n",
       "      <td>-0.174737</td>\n",
       "    </tr>\n",
       "    <tr>\n",
       "      <th>density</th>\n",
       "      <td>0.265331</td>\n",
       "      <td>0.027114</td>\n",
       "      <td>0.149503</td>\n",
       "      <td>0.838966</td>\n",
       "      <td>0.257211</td>\n",
       "      <td>0.294210</td>\n",
       "      <td>0.529881</td>\n",
       "      <td>1.000000</td>\n",
       "      <td>-0.093591</td>\n",
       "      <td>0.074493</td>\n",
       "      <td>-0.780138</td>\n",
       "      <td>-0.307123</td>\n",
       "    </tr>\n",
       "    <tr>\n",
       "      <th>pH</th>\n",
       "      <td>-0.425858</td>\n",
       "      <td>-0.031915</td>\n",
       "      <td>-0.163748</td>\n",
       "      <td>-0.194133</td>\n",
       "      <td>-0.090439</td>\n",
       "      <td>-0.000618</td>\n",
       "      <td>0.002321</td>\n",
       "      <td>-0.093591</td>\n",
       "      <td>1.000000</td>\n",
       "      <td>0.155951</td>\n",
       "      <td>0.121432</td>\n",
       "      <td>0.099427</td>\n",
       "    </tr>\n",
       "    <tr>\n",
       "      <th>sulphates</th>\n",
       "      <td>-0.017143</td>\n",
       "      <td>-0.035728</td>\n",
       "      <td>0.062331</td>\n",
       "      <td>-0.026664</td>\n",
       "      <td>0.016763</td>\n",
       "      <td>0.059217</td>\n",
       "      <td>0.134562</td>\n",
       "      <td>0.074493</td>\n",
       "      <td>0.155951</td>\n",
       "      <td>1.000000</td>\n",
       "      <td>-0.017433</td>\n",
       "      <td>0.053678</td>\n",
       "    </tr>\n",
       "    <tr>\n",
       "      <th>alcohol</th>\n",
       "      <td>-0.120881</td>\n",
       "      <td>0.067718</td>\n",
       "      <td>-0.075729</td>\n",
       "      <td>-0.450631</td>\n",
       "      <td>-0.360189</td>\n",
       "      <td>-0.250104</td>\n",
       "      <td>-0.448892</td>\n",
       "      <td>-0.780138</td>\n",
       "      <td>0.121432</td>\n",
       "      <td>-0.017433</td>\n",
       "      <td>1.000000</td>\n",
       "      <td>0.435575</td>\n",
       "    </tr>\n",
       "    <tr>\n",
       "      <th>quality</th>\n",
       "      <td>-0.113663</td>\n",
       "      <td>-0.194723</td>\n",
       "      <td>-0.009209</td>\n",
       "      <td>-0.097577</td>\n",
       "      <td>-0.209934</td>\n",
       "      <td>0.008158</td>\n",
       "      <td>-0.174737</td>\n",
       "      <td>-0.307123</td>\n",
       "      <td>0.099427</td>\n",
       "      <td>0.053678</td>\n",
       "      <td>0.435575</td>\n",
       "      <td>1.000000</td>\n",
       "    </tr>\n",
       "  </tbody>\n",
       "</table>\n",
       "</div>"
      ],
      "text/plain": [
       "                      fixed acidity  volatile acidity  citric acid  \\\n",
       "fixed acidity              1.000000         -0.022697     0.289181   \n",
       "volatile acidity          -0.022697          1.000000    -0.149472   \n",
       "citric acid                0.289181         -0.149472     1.000000   \n",
       "residual sugar             0.089021          0.064286     0.094212   \n",
       "chlorides                  0.023086          0.070512     0.114364   \n",
       "free sulfur dioxide       -0.049396         -0.097012     0.094077   \n",
       "total sulfur dioxide       0.091070          0.089261     0.121131   \n",
       "density                    0.265331          0.027114     0.149503   \n",
       "pH                        -0.425858         -0.031915    -0.163748   \n",
       "sulphates                 -0.017143         -0.035728     0.062331   \n",
       "alcohol                   -0.120881          0.067718    -0.075729   \n",
       "quality                   -0.113663         -0.194723    -0.009209   \n",
       "\n",
       "                      residual sugar  chlorides  free sulfur dioxide  \\\n",
       "fixed acidity               0.089021   0.023086            -0.049396   \n",
       "volatile acidity            0.064286   0.070512            -0.097012   \n",
       "citric acid                 0.094212   0.114364             0.094077   \n",
       "residual sugar              1.000000   0.088685             0.299098   \n",
       "chlorides                   0.088685   1.000000             0.101392   \n",
       "free sulfur dioxide         0.299098   0.101392             1.000000   \n",
       "total sulfur dioxide        0.401439   0.198910             0.615501   \n",
       "density                     0.838966   0.257211             0.294210   \n",
       "pH                         -0.194133  -0.090439            -0.000618   \n",
       "sulphates                  -0.026664   0.016763             0.059217   \n",
       "alcohol                    -0.450631  -0.360189            -0.250104   \n",
       "quality                    -0.097577  -0.209934             0.008158   \n",
       "\n",
       "                      total sulfur dioxide   density        pH  sulphates  \\\n",
       "fixed acidity                     0.091070  0.265331 -0.425858  -0.017143   \n",
       "volatile acidity                  0.089261  0.027114 -0.031915  -0.035728   \n",
       "citric acid                       0.121131  0.149503 -0.163748   0.062331   \n",
       "residual sugar                    0.401439  0.838966 -0.194133  -0.026664   \n",
       "chlorides                         0.198910  0.257211 -0.090439   0.016763   \n",
       "free sulfur dioxide               0.615501  0.294210 -0.000618   0.059217   \n",
       "total sulfur dioxide              1.000000  0.529881  0.002321   0.134562   \n",
       "density                           0.529881  1.000000 -0.093591   0.074493   \n",
       "pH                                0.002321 -0.093591  1.000000   0.155951   \n",
       "sulphates                         0.134562  0.074493  0.155951   1.000000   \n",
       "alcohol                          -0.448892 -0.780138  0.121432  -0.017433   \n",
       "quality                          -0.174737 -0.307123  0.099427   0.053678   \n",
       "\n",
       "                       alcohol   quality  \n",
       "fixed acidity        -0.120881 -0.113663  \n",
       "volatile acidity      0.067718 -0.194723  \n",
       "citric acid          -0.075729 -0.009209  \n",
       "residual sugar       -0.450631 -0.097577  \n",
       "chlorides            -0.360189 -0.209934  \n",
       "free sulfur dioxide  -0.250104  0.008158  \n",
       "total sulfur dioxide -0.448892 -0.174737  \n",
       "density              -0.780138 -0.307123  \n",
       "pH                    0.121432  0.099427  \n",
       "sulphates            -0.017433  0.053678  \n",
       "alcohol               1.000000  0.435575  \n",
       "quality               0.435575  1.000000  "
      ]
     },
     "execution_count": 7,
     "metadata": {},
     "output_type": "execute_result"
    }
   ],
   "source": [
    "wine.corr()"
   ]
  },
  {
   "cell_type": "code",
   "execution_count": 8,
   "metadata": {},
   "outputs": [
    {
     "data": {
      "text/plain": [
       "<matplotlib.axes._subplots.AxesSubplot at 0x1a224a2650>"
      ]
     },
     "execution_count": 8,
     "metadata": {},
     "output_type": "execute_result"
    },
    {
     "data": {
      "image/png": "[encoded data removed]",
      "text/plain": [
       "<Figure size 720x432 with 2 Axes>"
      ]
     },
     "metadata": {
      "needs_background": "light"
     },
     "output_type": "display_data"
    }
   ],
   "source": [
    "fig = plt.figure(figsize=(10, 6))\n",
    "sns.heatmap(wine.corr(), annot=True, fmt='.1f')"
   ]
  },
  {
   "cell_type": "code",
   "execution_count": 9,
   "metadata": {},
   "outputs": [
    {
     "data": {
      "text/plain": [
       "<matplotlib.axes._subplots.AxesSubplot at 0x1a22542850>"
      ]
     },
     "execution_count": 9,
     "metadata": {},
     "output_type": "execute_result"
    },
    {
     "data": {
      "image/png": "[encoded data removed]",
      "text/plain": [
       "<Figure size 720x432 with 1 Axes>"
      ]
     },
     "metadata": {
      "needs_background": "light"
     },
     "output_type": "display_data"
    }
   ],
   "source": [
    "fig = plt.figure(figsize=(10, 6))\n",
    "plt.title('Correlation between residualSugar and density (0.838966)')\n",
    "sns.scatterplot(x='residual sugar', y='density', data=wine)"
   ]
  },
  {
   "cell_type": "code",
   "execution_count": 10,
   "metadata": {},
   "outputs": [
    {
     "data": {
      "text/plain": [
       "<matplotlib.axes._subplots.AxesSubplot at 0x1a227b9790>"
      ]
     },
     "execution_count": 10,
     "metadata": {},
     "output_type": "execute_result"
    },
    {
     "data": {
      "image/png": "[encoded data removed]",
      "text/plain": [
       "<Figure size 720x432 with 1 Axes>"
      ]
     },
     "metadata": {
      "needs_background": "light"
     },
     "output_type": "display_data"
    }
   ],
   "source": [
    "fig = plt.figure(figsize=(10, 6))\n",
    "plt.title('Correlation between density and alcohol (-0.780138)')\n",
    "sns.scatterplot(x='density', y='alcohol', data=wine)"
   ]
  },
  {
   "cell_type": "code",
   "execution_count": 11,
   "metadata": {},
   "outputs": [
    {
     "data": {
      "text/plain": [
       "<matplotlib.axes._subplots.AxesSubplot at 0x1a22a02f90>"
      ]
     },
     "execution_count": 11,
     "metadata": {},
     "output_type": "execute_result"
    },
    {
     "data": {
      "image/png": "[encoded data removed]",
      "text/plain": [
       "<Figure size 720x432 with 1 Axes>"
      ]
     },
     "metadata": {
      "needs_background": "light"
     },
     "output_type": "display_data"
    }
   ],
   "source": [
    "# No correlation between alcohol and total sulfur dioxide\n",
    "fig = plt.figure(figsize=(10, 6))\n",
    "plt.title('Correlation between alcohol and total sulfur dioxide (-0.448892)')\n",
    "sns.scatterplot(x='alcohol', y='total sulfur dioxide', data=wine)"
   ]
  },
  {
   "cell_type": "code",
   "execution_count": 12,
   "metadata": {},
   "outputs": [
    {
     "data": {
      "text/plain": [
       "6    2198\n",
       "5    1457\n",
       "7     880\n",
       "8     175\n",
       "4     163\n",
       "3      20\n",
       "9       5\n",
       "Name: quality, dtype: int64"
      ]
     },
     "execution_count": 12,
     "metadata": {},
     "output_type": "execute_result"
    }
   ],
   "source": [
    "# Histogram of wine quality distribution (output values)\n",
    "wine['quality'].value_counts()"
   ]
  },
  {
   "cell_type": "code",
   "execution_count": 13,
   "metadata": {},
   "outputs": [
    {
     "data": {
      "text/plain": [
       "(array([  20.,  163., 1457., 2198.,  880.,  175.,    5.]),\n",
       " array([3.        , 3.85714286, 4.71428571, 5.57142857, 6.42857143,\n",
       "        7.28571429, 8.14285714, 9.        ]),\n",
       " <a list of 7 Patch objects>)"
      ]
     },
     "execution_count": 13,
     "metadata": {},
     "output_type": "execute_result"
    },
    {
     "data": {
      "image/png": "[encoded data removed]",
      "text/plain": [
       "<Figure size 720x432 with 1 Axes>"
      ]
     },
     "metadata": {
      "needs_background": "light"
     },
     "output_type": "display_data"
    }
   ],
   "source": [
    "fig = plt.figure(figsize=(10, 6))\n",
    "plt.title('Histogram of wine quality distribution')\n",
    "plt.xlabel('quality')\n",
    "plt.hist(wine['quality'], bins=7)"
   ]
  },
  {
   "cell_type": "code",
   "execution_count": null,
   "metadata": {},
   "outputs": [],
   "source": []
  },
  {
   "cell_type": "code",
   "execution_count": 14,
   "metadata": {},
   "outputs": [
    {
     "name": "stderr",
     "output_type": "stream",
     "text": [
      "/Users/aygulmardanova/anaconda3/lib/python2.7/site-packages/scipy/stats/stats.py:1713: FutureWarning:\n",
      "\n",
      "Using a non-tuple sequence for multidimensional indexing is deprecated; use `arr[tuple(seq)]` instead of `arr[seq]`. In the future this will be interpreted as an array index, `arr[np.array(seq)]`, which will result either in an error or a different result.\n",
      "\n"
     ]
    },
    {
     "data": {
      "text/plain": [
       "<matplotlib.axes._subplots.AxesSubplot at 0x1a229ef890>"
      ]
     },
     "execution_count": 14,
     "metadata": {},
     "output_type": "execute_result"
    },
    {
     "data": {
      "image/png": "[encoded data removed]",
      "text/plain": [
       "<Figure size 720x432 with 1 Axes>"
      ]
     },
     "metadata": {
      "needs_background": "light"
     },
     "output_type": "display_data"
    }
   ],
   "source": [
    "# Here we see that fixed acidity does not give any specification to classify the quality.\n",
    "fig = plt.figure(figsize=(10, 6))\n",
    "sns.barplot(x='quality', y='fixed acidity', data=wine)"
   ]
  },
  {
   "cell_type": "code",
   "execution_count": 15,
   "metadata": {},
   "outputs": [
    {
     "data": {
      "text/plain": [
       "<matplotlib.axes._subplots.AxesSubplot at 0x1a2303f4d0>"
      ]
     },
     "execution_count": 15,
     "metadata": {},
     "output_type": "execute_result"
    },
    {
     "data": {
      "image/png": "[encoded data removed]",
      "text/plain": [
       "<Figure size 720x432 with 1 Axes>"
      ]
     },
     "metadata": {
      "needs_background": "light"
     },
     "output_type": "display_data"
    }
   ],
   "source": [
    "# Here we see that its quite a downing trend in the volatile acidity as we go higher the quality\n",
    "fig = plt.figure(figsize=(10, 6))\n",
    "sns.barplot(x='quality', y='volatile acidity', data=wine)"
   ]
  },
  {
   "cell_type": "code",
   "execution_count": 16,
   "metadata": {},
   "outputs": [
    {
     "data": {
      "text/plain": [
       "<matplotlib.axes._subplots.AxesSubplot at 0x1a252a61d0>"
      ]
     },
     "execution_count": 16,
     "metadata": {},
     "output_type": "execute_result"
    },
    {
     "data": {
      "image/png": "[encoded data removed]",
      "text/plain": [
       "<Figure size 720x432 with 1 Axes>"
      ]
     },
     "metadata": {
      "needs_background": "light"
     },
     "output_type": "display_data"
    }
   ],
   "source": [
    "# Composition of citric acid go higher as we go higher in the quality of the wine\n",
    "fig = plt.figure(figsize=(10, 6))\n",
    "sns.barplot(x='quality', y='citric acid', data=wine)"
   ]
  },
  {
   "cell_type": "code",
   "execution_count": 17,
   "metadata": {},
   "outputs": [
    {
     "data": {
      "text/plain": [
       "<matplotlib.axes._subplots.AxesSubplot at 0x1a2543f490>"
      ]
     },
     "execution_count": 17,
     "metadata": {},
     "output_type": "execute_result"
    },
    {
     "data": {
      "image/png": "[encoded data removed]",
      "text/plain": [
       "<Figure size 720x432 with 1 Axes>"
      ]
     },
     "metadata": {
      "needs_background": "light"
     },
     "output_type": "display_data"
    }
   ],
   "source": [
    "fig = plt.figure(figsize=(10, 6))\n",
    "sns.barplot(x='quality', y='residual sugar', data=wine)"
   ]
  },
  {
   "cell_type": "code",
   "execution_count": 18,
   "metadata": {},
   "outputs": [
    {
     "data": {
      "text/plain": [
       "<matplotlib.axes._subplots.AxesSubplot at 0x1a252a6cd0>"
      ]
     },
     "execution_count": 18,
     "metadata": {},
     "output_type": "execute_result"
    },
    {
     "data": {
      "image/png": "[encoded data removed]",
      "text/plain": [
       "<Figure size 720x432 with 1 Axes>"
      ]
     },
     "metadata": {
      "needs_background": "light"
     },
     "output_type": "display_data"
    }
   ],
   "source": [
    "# Composition of chloride also go down as we go higher in the quality of the wine\n",
    "fig = plt.figure(figsize=(10, 6))\n",
    "sns.barplot(x='quality', y='chlorides', data=wine)"
   ]
  },
  {
   "cell_type": "code",
   "execution_count": 19,
   "metadata": {},
   "outputs": [
    {
     "data": {
      "text/plain": [
       "<matplotlib.axes._subplots.AxesSubplot at 0x1a252d3d50>"
      ]
     },
     "execution_count": 19,
     "metadata": {},
     "output_type": "execute_result"
    },
    {
     "data": {
      "image/png": "[encoded data removed]",
      "text/plain": [
       "<Figure size 720x432 with 1 Axes>"
      ]
     },
     "metadata": {
      "needs_background": "light"
     },
     "output_type": "display_data"
    }
   ],
   "source": [
    "fig = plt.figure(figsize=(10, 6))\n",
    "sns.barplot(x='quality', y='free sulfur dioxide', data=wine)"
   ]
  },
  {
   "cell_type": "code",
   "execution_count": 20,
   "metadata": {},
   "outputs": [
    {
     "data": {
      "text/plain": [
       "<matplotlib.axes._subplots.AxesSubplot at 0x1a2570c190>"
      ]
     },
     "execution_count": 20,
     "metadata": {},
     "output_type": "execute_result"
    },
    {
     "data": {
      "image/png": "[encoded data removed]",
      "text/plain": [
       "<Figure size 720x432 with 1 Axes>"
      ]
     },
     "metadata": {
      "needs_background": "light"
     },
     "output_type": "display_data"
    }
   ],
   "source": [
    "fig = plt.figure(figsize=(10, 6))\n",
    "sns.barplot(x='quality', y='total sulfur dioxide', data=wine)"
   ]
  },
  {
   "cell_type": "code",
   "execution_count": 21,
   "metadata": {},
   "outputs": [
    {
     "data": {
      "text/plain": [
       "<matplotlib.axes._subplots.AxesSubplot at 0x1a259c9c50>"
      ]
     },
     "execution_count": 21,
     "metadata": {},
     "output_type": "execute_result"
    },
    {
     "data": {
      "image/png": "[encoded data removed]",
      "text/plain": [
       "<Figure size 720x432 with 1 Axes>"
      ]
     },
     "metadata": {
      "needs_background": "light"
     },
     "output_type": "display_data"
    }
   ],
   "source": [
    "# Sulphates level goes higher with the quality of wine\n",
    "fig = plt.figure(figsize=(10, 6))\n",
    "sns.barplot(x='quality', y='sulphates', data=wine)"
   ]
  },
  {
   "cell_type": "code",
   "execution_count": 22,
   "metadata": {},
   "outputs": [
    {
     "data": {
      "text/plain": [
       "<matplotlib.axes._subplots.AxesSubplot at 0x1a22eb22d0>"
      ]
     },
     "execution_count": 22,
     "metadata": {},
     "output_type": "execute_result"
    },
    {
     "data": {
      "image/png": "[encoded data removed]",
      "text/plain": [
       "<Figure size 720x432 with 1 Axes>"
      ]
     },
     "metadata": {
      "needs_background": "light"
     },
     "output_type": "display_data"
    }
   ],
   "source": [
    "# Alcohol level also goes higher as te quality of wine increases\n",
    "fig = plt.figure(figsize=(10, 6))\n",
    "sns.barplot(x='quality', y='alcohol', data=wine)"
   ]
  },
  {
   "cell_type": "code",
   "execution_count": 23,
   "metadata": {},
   "outputs": [
    {
     "data": {
      "text/plain": [
       "<matplotlib.axes._subplots.AxesSubplot at 0x1a25a26950>"
      ]
     },
     "execution_count": 23,
     "metadata": {},
     "output_type": "execute_result"
    },
    {
     "data": {
      "image/png": "[encoded data removed]",
      "text/plain": [
       "<Figure size 720x432 with 1 Axes>"
      ]
     },
     "metadata": {
      "needs_background": "light"
     },
     "output_type": "display_data"
    }
   ],
   "source": [
    "# Binary classification (bad / good)\n",
    "\n",
    "# Preprocessing Data for performing Machine learning algorithms\n",
    "# Making binary classification for the response variable.\n",
    "# Dividing wine as good and bad by giving the limit for the quality\n",
    "# quality (2,6] -> bad; (6, 9] -> good\n",
    "bins = (2, 6, 9)\n",
    "group_names = ['bad', 'good']\n",
    "qualityClassification = pd.cut(wine['quality'], bins=bins, labels=group_names)\n",
    "\n",
    "# Now lets assign a labels to our quality variable\n",
    "label_quality = LabelEncoder()\n",
    "\n",
    "# Bad becomes 0 (1) and good becomes 1 (2)\n",
    "qualityClassification = label_quality.fit_transform(qualityClassification)\n",
    "\n",
    "fig = plt.figure(figsize=(10, 6))\n",
    "plt.title('Binary classification')\n",
    "sns.countplot(qualityClassification)"
   ]
  },
  {
   "cell_type": "code",
   "execution_count": 24,
   "metadata": {},
   "outputs": [],
   "source": [
    "# Prepare dataset to perform ML algorithms\n",
    "# Define feature variables and response variable\n",
    "features = ['fixed acidity', 'volatile acidity', 'citric acid', 'residual sugar', 'chlorides',\n",
    "            'free sulfur dioxide', 'total sulfur dioxide', 'density', 'pH', 'sulphates', 'alcohol']\n",
    "target = ['quality']\n",
    "\n",
    "# Separate dataset\n",
    "X = wine[features]\n",
    "y = wine[target]\n",
    "\n",
    "# Split data into train and test datasets\n",
    "X_train, X_test, y_train, y_test = train_test_split(X, y, test_size=0.2, random_state=200)\n",
    "np.set_printoptions(precision=3)"
   ]
  },
  {
   "cell_type": "code",
   "execution_count": 25,
   "metadata": {},
   "outputs": [],
   "source": [
    "# Apply Standard scaling to get optimized result\n",
    "# Standardize features by removing the mean and scaling to unit variance. \n",
    "# The standard score of a sample x is calculated as: z = (x - u) / s, where \n",
    "# u - the mean of the training samples, s - the standard deviation of the training samples.\n",
    "sc = StandardScaler()\n",
    "X_train = sc.fit_transform(X_train)\n",
    "X_test = sc.fit_transform(X_test)"
   ]
  },
  {
   "cell_type": "code",
   "execution_count": 26,
   "metadata": {},
   "outputs": [
    {
     "name": "stdout",
     "output_type": "stream",
     "text": [
      "correct:   [5 6 7 6 5 6 6 7 6 5 4 6 6 5 6]\n",
      "predicted: [5 6 7 6 5 6 6 7 6 5 6 6 6 6 6]\n"
     ]
    }
   ],
   "source": [
    "###\n",
    "# Random Forest Classifier\n",
    "# A random forest is a meta estimator that fits a number of decision tree classifiers on various\n",
    "# sub-samples of the dataset and uses averaging to improve the predictive accuracy and control over-fitting.\n",
    "# The sub-sample size is always the same as the original input sample size\n",
    "# but the samples are drawn with replacement if bootstrap=True (default).\n",
    "# n_estimators - The number of trees on the forest\n",
    "\n",
    "rfc = RandomForestClassifier(n_estimators=200)\n",
    "rfc.fit(X_train, np.ravel(y_train))\n",
    "pred_rfc = rfc.predict(X_test)\n",
    "# print some values (correct and predicted ones)\n",
    "print('correct:  ', np.ravel(y_test.values[0:15]))\n",
    "print('predicted:', pred_rfc[0:15])"
   ]
  },
  {
   "cell_type": "code",
   "execution_count": 27,
   "metadata": {},
   "outputs": [
    {
     "name": "stdout",
     "output_type": "stream",
     "text": [
      "     3     4     5     6     7     8     9\n",
      "\n",
      "[5] [0.    0.04  0.87  0.085 0.005 0.    0.   ]\n",
      "[6] [0.    0.015 0.11  0.775 0.1   0.    0.   ]\n",
      "[7] [0.005 0.025 0.04  0.335 0.44  0.155 0.   ]\n",
      "[6] [0.01 0.07 0.11 0.72 0.09 0.   0.  ]\n",
      "[5] [0.    0.005 0.62  0.37  0.005 0.    0.   ]\n",
      "[6] [0.085 0.01  0.225 0.46  0.19  0.03  0.   ]\n",
      "[6] [0.    0.01  0.155 0.585 0.195 0.055 0.   ]\n",
      "[7] [0.    0.02  0.08  0.415 0.465 0.02  0.   ]\n",
      "[6] [0.    0.005 0.33  0.665 0.    0.    0.   ]\n",
      "[5] [0.    0.09  0.535 0.3   0.07  0.005 0.   ]\n",
      "[4] [0.    0.055 0.26  0.44  0.195 0.05  0.   ]\n",
      "[6] [0.01  0.01  0.33  0.5   0.105 0.045 0.   ]\n",
      "[6] [0.005 0.005 0.21  0.565 0.2   0.015 0.   ]\n",
      "[5] [0.    0.03  0.435 0.53  0.005 0.    0.   ]\n",
      "[6] [0.    0.    0.16  0.805 0.035 0.    0.   ]\n"
     ]
    }
   ],
   "source": [
    "# print quality labels\n",
    "for i in range(3,10):\n",
    "    print('     ' + str(i), end='')\n",
    "print('\\n')\n",
    "pred_prob = rfc.predict_proba(X_test)[0:15]\n",
    "# print correct result and predicted probabilities for each value\n",
    "for i in range(0,15):\n",
    "    print(y_test.values[i], pred_prob[i])"
   ]
  },
  {
   "cell_type": "code",
   "execution_count": 28,
   "metadata": {},
   "outputs": [
    {
     "name": "stdout",
     "output_type": "stream",
     "text": [
      "              precision    recall  f1-score   support\n",
      "\n",
      "           3       0.00      0.00      0.00         3\n",
      "           4       0.73      0.22      0.34        36\n",
      "           5       0.69      0.67      0.68       260\n",
      "           6       0.70      0.83      0.76       480\n",
      "           7       0.76      0.59      0.66       168\n",
      "           8       0.77      0.31      0.44        32\n",
      "           9       0.00      0.00      0.00         1\n",
      "\n",
      "   micro avg       0.71      0.71      0.71       980\n",
      "   macro avg       0.52      0.38      0.41       980\n",
      "weighted avg       0.71      0.71      0.69       980\n",
      "\n"
     ]
    },
    {
     "name": "stderr",
     "output_type": "stream",
     "text": [
      "/Users/aygulmardanova/.local/lib/python2.7/site-packages/sklearn/metrics/classification.py:1143: UndefinedMetricWarning:\n",
      "\n",
      "Precision and F-score are ill-defined and being set to 0.0 in labels with no predicted samples.\n",
      "\n"
     ]
    }
   ],
   "source": [
    "# Random Forest Classifier -> accuracy of 70%\n",
    "# for classification using 2 labels (instead of 7 -> accuracy of 88%)\n",
    "print(classification_report(y_test, pred_rfc))"
   ]
  },
  {
   "cell_type": "code",
   "execution_count": 29,
   "metadata": {},
   "outputs": [
    {
     "name": "stdout",
     "output_type": "stream",
     "text": [
      "[[  0   0   2   1   0   0   0]\n",
      " [  0   8  18  10   0   0   0]\n",
      " [  0   2 175  83   0   0   0]\n",
      " [  0   1  55 400  23   1   0]\n",
      " [  0   0   2  65  99   2   0]\n",
      " [  0   0   0  14   8  10   0]\n",
      " [  0   0   0   0   1   0   0]]\n"
     ]
    }
   ],
   "source": [
    "# Confusion matrix for the random forest classification\n",
    "# The diagonal elements - the number of points for which the predicted label is equal to the true label\n",
    "# off-diagonal elements - mislabeled by the classifier.\n",
    "print(confusion_matrix(y_test, pred_rfc))"
   ]
  },
  {
   "cell_type": "code",
   "execution_count": 51,
   "metadata": {},
   "outputs": [
    {
     "name": "stdout",
     "output_type": "stream",
     "text": [
      "correct:   [5 6 7 6 5 6 6 7 6 5 4 6 6 5 6]\n",
      "predicted: [5 5 6 6 5 5 6 4 6 5 5 5 7 5 6]\n"
     ]
    }
   ],
   "source": [
    "###\n",
    "# Stochastic Gradient Descent Classifier\n",
    "# The advantages of SGD:\n",
    "# - Efficiency.\n",
    "# - Ease of implementation (lots of opportunities for code tuning).\n",
    "# The disadvantages of SGD:\n",
    "# - SGD requires a number of hyperparameters such as the regularization parameter and the number of iterations.\n",
    "# - SGD is sensitive to feature scaling.\n",
    "\n",
    "sgd = SGDClassifier(penalty=\"elasticnet\", max_iter=2000, tol=0.00001, loss=\"modified_huber\")\n",
    "sgd.fit(X_train, y_train)\n",
    "pred_sgd = sgd.predict(X_test)\n",
    "# print(sgd.coef_)\n",
    "# print some values (correct and predicted ones)\n",
    "print('correct:  ', np.ravel(y_test.values[0:15]))\n",
    "print('predicted:', np.ravel(pred_sgd[0:15]))"
   ]
  },
  {
   "cell_type": "code",
   "execution_count": 31,
   "metadata": {},
   "outputs": [
    {
     "name": "stdout",
     "output_type": "stream",
     "text": [
      "     3     4     5     6     7     8     9\n",
      "\n",
      "[5] [0.    0.051 0.597 0.351 0.    0.    0.   ]\n",
      "[6] [0.    0.    0.35  0.357 0.293 0.    0.   ]\n",
      "[7] [0.    0.361 0.    0.629 0.011 0.    0.   ]\n",
      "[6] [0.    0.    0.112 0.609 0.279 0.    0.   ]\n",
      "[5] [0. 0. 1. 0. 0. 0. 0.]\n",
      "[6] [0.    0.247 0.023 0.672 0.058 0.    0.   ]\n",
      "[6] [0.    0.    0.    0.586 0.414 0.    0.   ]\n",
      "[7] [0.    0.341 0.    0.433 0.226 0.    0.   ]\n",
      "[6] [0.   0.   0.72 0.   0.28 0.   0.  ]\n",
      "[5] [0.    0.208 0.415 0.312 0.065 0.    0.   ]\n",
      "[4] [0.    0.    0.948 0.    0.052 0.    0.   ]\n",
      "[6] [0.    0.    0.508 0.323 0.169 0.    0.   ]\n",
      "[6] [0.    0.044 0.146 0.582 0.19  0.039 0.   ]\n",
      "[5] [0.    0.    0.776 0.197 0.027 0.    0.   ]\n",
      "[6] [0.    0.    0.145 0.385 0.173 0.297 0.   ]\n"
     ]
    }
   ],
   "source": [
    "# print quality labels\n",
    "for i in range(3,10):\n",
    "    print('     ' + str(i), end='')\n",
    "print('\\n')\n",
    "pred_prob = sgd.predict_proba(X_test)[0:15]\n",
    "# print correct result and predicted probabilities for each value\n",
    "for i in range(0,15):\n",
    "    print(y_test.values[i], pred_prob[i])"
   ]
  },
  {
   "cell_type": "code",
   "execution_count": 32,
   "metadata": {},
   "outputs": [
    {
     "name": "stdout",
     "output_type": "stream",
     "text": [
      "              precision    recall  f1-score   support\n",
      "\n",
      "           3       0.00      0.00      0.00         3\n",
      "           4       0.14      0.22      0.17        36\n",
      "           5       0.43      0.67      0.52       260\n",
      "           6       0.52      0.46      0.49       480\n",
      "           7       0.22      0.12      0.16       168\n",
      "           8       0.00      0.00      0.00        32\n",
      "           9       0.00      0.00      0.00         1\n",
      "\n",
      "   micro avg       0.43      0.43      0.43       980\n",
      "   macro avg       0.19      0.21      0.19       980\n",
      "weighted avg       0.41      0.43      0.41       980\n",
      "\n",
      "[[  0   0   2   0   1   0   0]\n",
      " [  0   8  20   8   0   0   0]\n",
      " [  0  24 174  50  12   0   0]\n",
      " [  0  24 182 219  53   1   1]\n",
      " [  0   2  23 123  20   0   0]\n",
      " [  0   0   6  22   4   0   0]\n",
      " [  0   0   0   1   0   0   0]]\n"
     ]
    }
   ],
   "source": [
    "# Stochastic Gradient Descent Classifier -> accuracy of 51%\n",
    "# for classification using 2 labels (instead of 7 -> accuracy of 77%)\n",
    "print(classification_report(y_test, pred_sgd))\n",
    "\n",
    "# 51% accuracy using stochastic gradient descent classifier\n",
    "print(confusion_matrix(y_test, pred_sgd))"
   ]
  },
  {
   "cell_type": "code",
   "execution_count": 33,
   "metadata": {},
   "outputs": [
    {
     "name": "stdout",
     "output_type": "stream",
     "text": [
      "correct:   [5 6 7 6 5 6 6 7 6 5 4 6 6 5 6]\n",
      "predicted: [5 6 6 6 5 6 6 6 5 5 6 6 6 5 6]\n"
     ]
    }
   ],
   "source": [
    "###\n",
    "# Support Vector Classifier\n",
    "# fit time complexity is more than quadratic with the number of samples -> hard to scale more than 10000 samples.\n",
    "# probability=True - to use predict_proba method\n",
    "\n",
    "svc = SVC(probability=True)\n",
    "svc.fit(X_train, y_train)\n",
    "pred_svc = svc.predict(X_test)\n",
    "# print some values (correct and predicted ones)\n",
    "print('correct:  ', np.ravel(y_test.values[0:15]))\n",
    "print('predicted:', pred_svc[0:15])"
   ]
  },
  {
   "cell_type": "code",
   "execution_count": 34,
   "metadata": {},
   "outputs": [
    {
     "name": "stdout",
     "output_type": "stream",
     "text": [
      "     3     4     5     6     7     8     9\n",
      "\n",
      "[5] [3.723e-03 3.306e-02 7.949e-01 1.501e-01 1.293e-02 4.879e-03 3.862e-04]\n",
      "[6] [0.005 0.042 0.271 0.584 0.081 0.015 0.002]\n",
      "[7] [0.005 0.025 0.06  0.592 0.216 0.099 0.003]\n",
      "[6] [0.014 0.05  0.226 0.551 0.14  0.017 0.001]\n",
      "[5] [0.003 0.04  0.738 0.196 0.019 0.003 0.001]\n",
      "[6] [0.005 0.016 0.128 0.618 0.194 0.038 0.001]\n",
      "[6] [0.002 0.01  0.119 0.697 0.147 0.025 0.001]\n",
      "[7] [0.002 0.018 0.139 0.619 0.178 0.042 0.001]\n",
      "[6] [0.004 0.038 0.665 0.236 0.051 0.005 0.002]\n",
      "[5] [0.002 0.02  0.686 0.248 0.036 0.008 0.001]\n",
      "[4] [0.003 0.032 0.257 0.531 0.161 0.014 0.001]\n",
      "[6] [0.002 0.027 0.214 0.637 0.096 0.022 0.002]\n",
      "[6] [0.003 0.009 0.247 0.563 0.151 0.025 0.002]\n",
      "[5] [0.003 0.036 0.514 0.393 0.048 0.006 0.001]\n",
      "[6] [0.003 0.008 0.175 0.708 0.08  0.025 0.001]\n"
     ]
    }
   ],
   "source": [
    "# print quality labels\n",
    "for i in range(3,10):\n",
    "    print('     ' + str(i), end='')\n",
    "print('\\n')\n",
    "pred_prob = svc.predict_proba(X_test)[0:15]\n",
    "# print correct result and predicted probabilities for each value\n",
    "for i in range(0,15):\n",
    "    print(y_test.values[i], pred_prob[i])"
   ]
  },
  {
   "cell_type": "code",
   "execution_count": 35,
   "metadata": {},
   "outputs": [
    {
     "name": "stdout",
     "output_type": "stream",
     "text": [
      "              precision    recall  f1-score   support\n",
      "\n",
      "           3       0.00      0.00      0.00         3\n",
      "           4       1.00      0.06      0.11        36\n",
      "           5       0.54      0.63      0.58       260\n",
      "           6       0.59      0.72      0.65       480\n",
      "           7       0.59      0.32      0.41       168\n",
      "           8       0.00      0.00      0.00        32\n",
      "           9       0.00      0.00      0.00         1\n",
      "\n",
      "   micro avg       0.58      0.58      0.58       980\n",
      "   macro avg       0.39      0.25      0.25       980\n",
      "weighted avg       0.57      0.58      0.55       980\n",
      "\n",
      "[[  0   0   2   1   0   0   0]\n",
      " [  0   2  23  10   1   0   0]\n",
      " [  0   0 164  94   2   0   0]\n",
      " [  0   0 109 347  24   0   0]\n",
      " [  0   0   6 109  53   0   0]\n",
      " [  0   0   0  22  10   0   0]\n",
      " [  0   0   0   1   0   0   0]]\n"
     ]
    }
   ],
   "source": [
    "# Support Vector Classifier -> accuracy of 57%\n",
    "# for classification using 2 labels (instead of 7 -> accuracy of 81%)\n",
    "print(classification_report(y_test, pred_svc))\n",
    "\n",
    "print(confusion_matrix(y_test, pred_svc))"
   ]
  },
  {
   "cell_type": "code",
   "execution_count": 36,
   "metadata": {},
   "outputs": [],
   "source": [
    "# ###\n",
    "# # Let's try to increase our accuracy of models\n",
    "# # Grid Search CV\n",
    "# # \n",
    "# # Finding best parameters for our SVC model\n",
    "# param = {\n",
    "#     'C': [0.1, 0.8, 0.9, 1, 1.1, 1.2, 1.3, 1.4],\n",
    "#     'kernel': ['linear', 'rbf'],\n",
    "#     'gamma': [0.1, 0.8, 0.9, 1, 1.1, 1.2, 1.3, 1.4]\n",
    "# }\n",
    "# grid_svc = GridSearchCV(svc, param_grid=param, scoring='accuracy', cv=10)\n",
    "# grid_svc.fit(X_train, y_train)"
   ]
  },
  {
   "cell_type": "code",
   "execution_count": 37,
   "metadata": {},
   "outputs": [],
   "source": [
    "# # Best parameters for our svc model\n",
    "# print(grid_svc.best_params_)\n",
    "\n",
    "# pred_prob = grid_svc.predict_proba(X_test)[0:15]\n",
    "# # print correct result and predicted probabilities for each value\n",
    "# for i in range(0,15):\n",
    "#     print(y_test.values[i], pred_prob[i])"
   ]
  },
  {
   "cell_type": "code",
   "execution_count": 38,
   "metadata": {},
   "outputs": [],
   "source": [
    "# # Let's run our SVC again with the best parameters.\n",
    "# # SVC improves from 81% to 85% using Grid Search CV\n",
    "# svc2 = SVC(C=1.2, gamma=0.9, kernel='rbf')\n",
    "# svc2.fit(X_train, y_train)\n",
    "# pred_svc2 = svc2.predict(X_test)\n",
    "# print(classification_report(y_test, pred_svc2))"
   ]
  },
  {
   "cell_type": "code",
   "execution_count": 39,
   "metadata": {},
   "outputs": [],
   "source": [
    "# # Cross Validation Score for random forest and SGD\n",
    "\n",
    "# # Now lets try to do some evaluation for random forest model using cross validation.\n",
    "# rfc_eval = cross_val_score(estimator=rfc, X=X_train, y=y_train, cv=10)\n",
    "# print(rfc_eval.mean())"
   ]
  },
  {
   "cell_type": "code",
   "execution_count": 40,
   "metadata": {},
   "outputs": [],
   "source": [
    "# Regression\n",
    "# - classification - define class of an object by analysing its characteristics.\n",
    "# in classification set of output classes is already defined\n",
    "# - regression - similar to classification task, is used to define output value of some parameter \n",
    "# according to known values of characteristics.\n",
    "# in comparison with classification, output IS NOT a defined set of values, output - set of real numbers."
   ]
  },
  {
   "cell_type": "code",
   "execution_count": 41,
   "metadata": {},
   "outputs": [
    {
     "name": "stdout",
     "output_type": "stream",
     "text": [
      "[ 0.056 -0.182  0.01   0.424 -0.003  0.059 -0.014 -0.461  0.107  0.075\n",
      "  0.238]\n"
     ]
    }
   ],
   "source": [
    "###\n",
    "# Linear regression (OLS - ordinary least squares)\n",
    "# Fit on train set\n",
    "lr = LinearRegression()\n",
    "lr.fit(X_train, y_train)\n",
    "# coef_ - is an array of 11 elements (since 11 features)\n",
    "print(np.ravel(lr.coef_))"
   ]
  },
  {
   "cell_type": "code",
   "execution_count": 42,
   "metadata": {},
   "outputs": [
    {
     "name": "stdout",
     "output_type": "stream",
     "text": [
      "[5] 5.0  <-  [5.186]\n",
      "[6] 6.0  <-  [5.555]\n",
      "[7] 7.0  <-  [6.593]\n",
      "[6] 6.0  <-  [5.897]\n",
      "[5] 5.0  <-  [5.202]\n",
      "[6] 6.0  <-  [6.101]\n",
      "[6] 6.0  <-  [6.064]\n",
      "[7] 6.0  <-  [6.268]\n",
      "[6] 5.0  <-  [5.487]\n",
      "[5] 6.0  <-  [5.582]\n",
      "[4] 6.0  <-  [5.946]\n",
      "[6] 6.0  <-  [5.561]\n",
      "[6] 6.0  <-  [6.075]\n",
      "[5] 6.0  <-  [5.646]\n",
      "[6] 6.0  <-  [6.327]\n"
     ]
    }
   ],
   "source": [
    "# Predict on test data\n",
    "y_prediction = lr.predict(X_test)\n",
    "# correct result; round of prediction, prediction\n",
    "for i in range(0,15):\n",
    "    print(y_test.values[i], round(y_prediction[i], 0), ' <- ', y_prediction[i])"
   ]
  },
  {
   "cell_type": "code",
   "execution_count": 43,
   "metadata": {},
   "outputs": [
    {
     "name": "stdout",
     "output_type": "stream",
     "text": [
      "R^2:  0.2758865147119731\n"
     ]
    }
   ],
   "source": [
    "print('R^2: ', lr.score(X_test, y_test))"
   ]
  },
  {
   "cell_type": "code",
   "execution_count": 44,
   "metadata": {},
   "outputs": [
    {
     "name": "stdout",
     "output_type": "stream",
     "text": [
      "RMSE:  0.731677791244\n"
     ]
    }
   ],
   "source": [
    "# Evaluate Linear Regression accuracy using root-mean-square-error (RMSE) = 0,731\n",
    "# In linear regression, the outcome (dependent variable) is continuous.\n",
    "# It can have any one of an infinite number of possible values.\n",
    "# In logistic regression, the outcome (dependent variable) has only a limited number of possible values.\n",
    "RMSE = sqrt(mean_squared_error(y_true=y_test, y_pred=y_prediction))\n",
    "print('RMSE: ', RMSE)"
   ]
  },
  {
   "cell_type": "code",
   "execution_count": 45,
   "metadata": {},
   "outputs": [
    {
     "name": "stdout",
     "output_type": "stream",
     "text": [
      "squared errors:  0.526\n"
     ]
    }
   ],
   "source": [
    "print('squared errors: ', \n",
    "      round(sum(np.ravel(abs(y_test - np.around(y_prediction)))) / len(y_test), 3))"
   ]
  },
  {
   "cell_type": "code",
   "execution_count": 46,
   "metadata": {},
   "outputs": [
    {
     "name": "stdout",
     "output_type": "stream",
     "text": [
      "[5] 5.0  <-  [5.267]\n",
      "[6] 6.0  <-  [5.672]\n",
      "[7] 7.0  <-  [6.611]\n",
      "[6] 6.0  <-  [5.749]\n",
      "[5] 5.0  <-  [5.18]\n",
      "[6] 6.0  <-  [6.108]\n",
      "[6] 6.0  <-  [5.976]\n",
      "[7] 6.0  <-  [6.107]\n",
      "[6] 5.0  <-  [5.5]\n",
      "[5] 5.0  <-  [5.362]\n",
      "[4] 6.0  <-  [6.018]\n",
      "[6] 6.0  <-  [5.668]\n",
      "[6] 6.0  <-  [6.003]\n",
      "[5] 6.0  <-  [5.62]\n",
      "[6] 6.0  <-  [6.141]\n"
     ]
    }
   ],
   "source": [
    "###\n",
    "# Polynomial regression\n",
    "# Fit on train set\n",
    "model = PolynomialFeatures(degree=2)\n",
    "X_train_ = model.fit_transform(X_train)\n",
    "X_test_ = model.fit_transform(X_test)\n",
    "\n",
    "plr = LinearRegression()\n",
    "plr.fit(X_train_, y_train)\n",
    "predicted_data = plr.predict(X_test_)\n",
    "\n",
    "\n",
    "# predicted_data = np.round_(predicted_data)\n",
    "# correct result; round of prediction, prediction\n",
    "for i in range(0,15):\n",
    "    print(y_test.values[i], round(predicted_data[i], 0), ' <- ', predicted_data[i])"
   ]
  },
  {
   "cell_type": "code",
   "execution_count": 47,
   "metadata": {},
   "outputs": [
    {
     "name": "stdout",
     "output_type": "stream",
     "text": [
      "RMSE:  0.710250880811\n"
     ]
    }
   ],
   "source": [
    "# Evaluate accuracy for Polynomial Regression using (RMSE)\n",
    "# degree = 2 => RMSE = 0,71\n",
    "# degree = 3 => RMSE = 0,715\n",
    "# degree = 4 => RMSE = 12,345\n",
    "RMSE = sqrt(mean_squared_error(y_true=y_test, y_pred=predicted_data))\n",
    "print('RMSE: ', RMSE)"
   ]
  },
  {
   "cell_type": "code",
   "execution_count": 48,
   "metadata": {},
   "outputs": [
    {
     "name": "stdout",
     "output_type": "stream",
     "text": [
      "squared errors:  0.499\n"
     ]
    }
   ],
   "source": [
    "# Evaluate squared errors for Polynomial Regression using (RMSE)\n",
    "# degree = 2 => sqErr = 0,499\n",
    "# degree = 3 => sqErr = 0,515\n",
    "# degree = 4 => sqErr = 1.273\n",
    "print('squared errors: ', \n",
    "      round(sum(np.ravel(abs(y_test - np.around(predicted_data)))) / len(y_test), 3))"
   ]
  },
  {
   "cell_type": "code",
   "execution_count": 94,
   "metadata": {},
   "outputs": [
    {
     "name": "stdout",
     "output_type": "stream",
     "text": [
      "[5] 5.0  <-  5.079\n",
      "[6] 6.0  <-  5.919\n",
      "[7] 7.0  <-  6.825\n",
      "[6] 6.0  <-  5.903\n",
      "[5] 5.0  <-  5.355\n",
      "[6] 5.0  <-  4.623\n",
      "[6] 6.0  <-  6.251\n",
      "[7] 7.0  <-  6.524\n",
      "[6] 6.0  <-  5.722\n",
      "[5] 5.0  <-  5.204\n",
      "[4] 6.0  <-  5.981\n",
      "[6] 6.0  <-  5.932\n",
      "[6] 6.0  <-  5.994\n",
      "[5] 6.0  <-  5.551\n",
      "[6] 6.0  <-  5.858\n"
     ]
    }
   ],
   "source": [
    "# Train Model\n",
    "# Import the model we are using\n",
    "from sklearn.ensemble import RandomForestRegressor\n",
    "\n",
    "# Instantiate model \n",
    "rfg = RandomForestRegressor(n_estimators= 1000, random_state=42)\n",
    "\n",
    "# Train the model on training data\n",
    "rfg.fit(X_train, np.ravel(y_train));\n",
    "\n",
    "# Make Predictions on Test Data\n",
    "# Use the forest's predict method on the test data\n",
    "y_prediction = rfg.predict(X_test)\n",
    "\n",
    "# correct result; round of prediction, prediction\n",
    "for i in range(0,15):\n",
    "    print(y_test.values[i], round(y_prediction[i], 0), ' <- ', y_prediction[i])"
   ]
  },
  {
   "cell_type": "code",
   "execution_count": 93,
   "metadata": {},
   "outputs": [
    {
     "name": "stdout",
     "output_type": "stream",
     "text": [
      "R^2:  0.5076251475401525\n"
     ]
    }
   ],
   "source": [
    "# results are better than for Linear regression:\n",
    "# R^2 = 0,276; RMSE = 0,73; sq errors = 0,526\n",
    "print('R^2: ', rfg.score(X_test, y_test))"
   ]
  },
  {
   "cell_type": "code",
   "execution_count": 95,
   "metadata": {},
   "outputs": [
    {
     "name": "stdout",
     "output_type": "stream",
     "text": [
      "RMSE:  0.603343289936\n"
     ]
    }
   ],
   "source": [
    "# Evaluate Linear Regression accuracy using root-mean-square-error (RMSE) = 0,731\n",
    "# In linear regression, the outcome (dependent variable) is continuous.\n",
    "# It can have any one of an infinite number of possible values.\n",
    "# In logistic regression, the outcome (dependent variable) has only a limited number of possible values.\n",
    "RMSE = sqrt(mean_squared_error(y_true=y_test, y_pred=y_prediction))\n",
    "print('RMSE: ', RMSE)"
   ]
  },
  {
   "cell_type": "code",
   "execution_count": 97,
   "metadata": {},
   "outputs": [
    {
     "name": "stdout",
     "output_type": "stream",
     "text": [
      "squared errors:  0.341\n"
     ]
    }
   ],
   "source": [
    "print('squared errors: ', \n",
    "      round(sum(np.ravel(abs(np.ravel(y_test) - np.around(y_prediction)))) / len(y_test), 3))"
   ]
  },
  {
   "cell_type": "code",
   "execution_count": 58,
   "metadata": {},
   "outputs": [
    {
     "name": "stdout",
     "output_type": "stream",
     "text": [
      "Mean Absolute Error: 0.43 degrees.\n"
     ]
    }
   ],
   "source": [
    "# Calculate the absolute errors\n",
    "errors = abs(np.ravel(y_prediction) - np.ravel(y_test))\n",
    "\n",
    "# Print out the mean absolute error (mae)\n",
    "print('Mean Absolute Error:', round(np.mean(errors), 2), 'degrees.')"
   ]
  },
  {
   "cell_type": "code",
   "execution_count": 62,
   "metadata": {},
   "outputs": [
    {
     "name": "stdout",
     "output_type": "stream",
     "text": [
      "Accuracy: 92.31 %.\n"
     ]
    }
   ],
   "source": [
    "# Determine Performance Metrics\n",
    "# Calculate mean absolute percentage error (MAPE)\n",
    "mape = 100 * (np.ravel(errors) / np.ravel(y_test))\n",
    "\n",
    "# Calculate and display accuracy\n",
    "accuracy = 100 - np.mean(mape)\n",
    "print('Accuracy:', round(accuracy, 2), '%.')"
   ]
  },
  {
   "cell_type": "code",
   "execution_count": 79,
   "metadata": {},
   "outputs": [
    {
     "name": "stdout",
     "output_type": "stream",
     "text": [
      "The depth of this tree is: 23\n"
     ]
    }
   ],
   "source": [
    "print('The depth of this tree is:', tree.tree_.max_depth)"
   ]
  },
  {
   "cell_type": "code",
   "execution_count": 99,
   "metadata": {},
   "outputs": [
    {
     "name": "stdout",
     "output_type": "stream",
     "text": [
      "Variable: alcohol              Importance: 0.25\n",
      "Variable: volatile acidity     Importance: 0.12\n",
      "Variable: free sulfur dioxide  Importance: 0.12\n",
      "Variable: fixed acidity        Importance: 0.07\n",
      "Variable: residual sugar       Importance: 0.07\n",
      "Variable: total sulfur dioxide Importance: 0.07\n",
      "Variable: pH                   Importance: 0.07\n",
      "Variable: citric acid          Importance: 0.06\n",
      "Variable: chlorides            Importance: 0.06\n",
      "Variable: density              Importance: 0.06\n",
      "Variable: sulphates            Importance: 0.06\n"
     ]
    }
   ],
   "source": [
    "# Variable Importances\n",
    "# Get numerical feature importances\n",
    "importances = list(rfg.feature_importances_)\n",
    "\n",
    "# List of tuples with variable and importance\n",
    "feature_importances = [(feature, round(importance, 2)) for feature, importance in zip(features, importances)]\n",
    "\n",
    "# Sort the feature importances by most important first\n",
    "feature_importances = sorted(feature_importances, key = lambda x: x[1], reverse = True)\n",
    "\n",
    "# Print out the feature and importances \n",
    "[print('Variable: {:20} Importance: {}'.format(*pair)) for pair in feature_importances];"
   ]
  },
  {
   "cell_type": "code",
   "execution_count": 84,
   "metadata": {},
   "outputs": [
    {
     "data": {
      "image/png": "[encoded data removed]",
      "text/plain": [
       "<Figure size 432x288 with 1 Axes>"
      ]
     },
     "metadata": {
      "needs_background": "light"
     },
     "output_type": "display_data"
    }
   ],
   "source": [
    "# Visualizations\n",
    "# Variable Importances\n",
    "# list of x locations for plotting\n",
    "x_values = list(range(len(importances)))\n",
    "\n",
    "# Make a bar chart\n",
    "plt.bar(x_values, importances, orientation = 'vertical')\n",
    "\n",
    "# Tick labels for x axis\n",
    "plt.xticks(x_values, features, rotation='vertical')\n",
    "\n",
    "# Axis labels and title\n",
    "plt.ylabel('Importance'); plt.xlabel('Feature'); plt.title('Feature Importances');"
   ]
  },
  {
   "cell_type": "code",
   "execution_count": 114,
   "metadata": {},
   "outputs": [
    {
     "data": {
      "image/png": "[encoded data removed]",
      "text/plain": [
       "<Figure size 432x288 with 1 Axes>"
      ]
     },
     "metadata": {
      "needs_background": "light"
     },
     "output_type": "display_data"
    }
   ],
   "source": [
    "plt.plot(X_test[:,9], y_test, 'b-', label = 'actual')\n",
    "\n",
    "# Plot the predicted values\n",
    "plt.plot(X_test[:,9], y_prediction, 'ro', label = 'prediction')\n",
    "plt.xticks(rotation = '60'); \n",
    "plt.legend()\n",
    "\n",
    "# Graph labels\n",
    "plt.xlabel('alcohol'); plt.ylabel('Quality of Wine'); plt.title('Actual and Predicted Values');\n"
   ]
  },
  {
   "cell_type": "code",
   "execution_count": null,
   "metadata": {},
   "outputs": [],
   "source": []
  },
  {
   "cell_type": "code",
   "execution_count": null,
   "metadata": {},
   "outputs": [],
   "source": []
  },
  {
   "cell_type": "code",
   "execution_count": 125,
   "metadata": {},
   "outputs": [
    {
     "ename": "IndexError",
     "evalue": "only integers, slices (`:`), ellipsis (`...`), numpy.newaxis (`None`) and integer or boolean arrays are valid indices",
     "output_type": "error",
     "traceback": [
      "\u001b[0;31m---------------------------------------------------------------------------\u001b[0m",
      "\u001b[0;31mIndexError\u001b[0m                                Traceback (most recent call last)",
      "\u001b[0;32m<ipython-input-125-bbb670455ad1>\u001b[0m in \u001b[0;36m<module>\u001b[0;34m()\u001b[0m\n\u001b[0;32m----> 1\u001b[0;31m \u001b[0mX_test\u001b[0m\u001b[0;34m[\u001b[0m\u001b[0;34m'alcohol'\u001b[0m\u001b[0;34m]\u001b[0m\u001b[0;34m\u001b[0m\u001b[0m\n\u001b[0m",
      "\u001b[0;31mIndexError\u001b[0m: only integers, slices (`:`), ellipsis (`...`), numpy.newaxis (`None`) and integer or boolean arrays are valid indices"
     ]
    }
   ],
   "source": [
    "X_test['alcohol']"
   ]
  },
  {
   "cell_type": "code",
   "execution_count": 127,
   "metadata": {},
   "outputs": [
    {
     "ename": "ImportError",
     "evalue": "cannot import name VotingRegressor",
     "output_type": "error",
     "traceback": [
      "\u001b[0;31m---------------------------------------------------------------------------\u001b[0m",
      "\u001b[0;31mImportError\u001b[0m                               Traceback (most recent call last)",
      "\u001b[0;32m<ipython-input-127-6fe266caaca1>\u001b[0m in \u001b[0;36m<module>\u001b[0;34m()\u001b[0m\n\u001b[1;32m      1\u001b[0m \u001b[0;32mfrom\u001b[0m \u001b[0msklearn\u001b[0m\u001b[0;34m.\u001b[0m\u001b[0mensemble\u001b[0m \u001b[0;32mimport\u001b[0m \u001b[0mGradientBoostingRegressor\u001b[0m\u001b[0;34m\u001b[0m\u001b[0m\n\u001b[0;32m----> 2\u001b[0;31m \u001b[0;32mfrom\u001b[0m \u001b[0msklearn\u001b[0m\u001b[0;34m.\u001b[0m\u001b[0mensemble\u001b[0m \u001b[0;32mimport\u001b[0m \u001b[0mVotingRegressor\u001b[0m\u001b[0;34m\u001b[0m\u001b[0m\n\u001b[0m\u001b[1;32m      3\u001b[0m \u001b[0;34m\u001b[0m\u001b[0m\n\u001b[1;32m      4\u001b[0m \u001b[0;34m\u001b[0m\u001b[0m\n\u001b[1;32m      5\u001b[0m \u001b[0mreg1\u001b[0m \u001b[0;34m=\u001b[0m \u001b[0mGradientBoostingRegressor\u001b[0m\u001b[0;34m(\u001b[0m\u001b[0mrandom_state\u001b[0m\u001b[0;34m=\u001b[0m\u001b[0;36m1\u001b[0m\u001b[0;34m,\u001b[0m \u001b[0mn_estimators\u001b[0m\u001b[0;34m=\u001b[0m\u001b[0;36m10\u001b[0m\u001b[0;34m)\u001b[0m\u001b[0;34m\u001b[0m\u001b[0m\n",
      "\u001b[0;31mImportError\u001b[0m: cannot import name VotingRegressor"
     ]
    }
   ],
   "source": [
    "from sklearn.ensemble import GradientBoostingRegressor\n",
    "from sklearn.ensemble import VotingRegressor\n",
    "\n",
    "\n",
    "reg1 = GradientBoostingRegressor(random_state=1, n_estimators=10)\n",
    "reg2 = RandomForestRegressor(random_state=1, n_estimators=10)\n",
    "reg3 = LinearRegression()\n",
    "ereg = VotingRegressor([('gb', reg1), ('rf', reg2), ('lr', reg3)])\n",
    "reg1.fit(X, y)\n",
    "reg2.fit(X, y)\n",
    "reg3.fit(X, y)\n",
    "ereg.fit(X, y)\n",
    "\n",
    "xt = X[:20]\n",
    "\n",
    "plt.figure()\n",
    "plt.plot(reg1.predict(xt), 'gd', label='GradientBoostingRegressor')\n",
    "plt.plot(reg2.predict(xt), 'b^', label='RandomForestRegressor')\n",
    "plt.plot(reg3.predict(xt), 'ys', label='LinearRegression')\n",
    "plt.plot(ereg.predict(xt), 'r*', label='VotingRegressor')\n",
    "plt.tick_params(axis='x', which='both', bottom=False, top=False,\n",
    "                labelbottom=False)\n",
    "plt.ylabel('predicted')\n",
    "plt.xlabel('training samples')\n",
    "plt.legend(loc=\"best\")\n",
    "plt.title('Comparison of individual predictions with averaged')\n",
    "plt.show()"
   ]
  },
  {
   "cell_type": "code",
   "execution_count": null,
   "metadata": {},
   "outputs": [],
   "source": []
  }
 ],
 "metadata": {
  "kernelspec": {
   "display_name": "Python 2",
   "language": "python",
   "name": "python2"
  },
  "language_info": {
   "codemirror_mode": {
    "name": "ipython",
    "version": 2
   },
   "file_extension": ".py",
   "mimetype": "text/x-python",
   "name": "python",
   "nbconvert_exporter": "python",
   "pygments_lexer": "ipython2",
   "version": "2.7.15"
  }
 },
 "nbformat": 4,
 "nbformat_minor": 2
}
